{
  "cells": [
    {
      "cell_type": "markdown",
      "metadata": {
        "id": "oh8-zJCDGQpG"
      },
      "source": [
        "# Assignment 2: DenseNet with CIFAR10 Dataset by TensorFlow"
      ]
    },
    {
      "cell_type": "markdown",
      "metadata": {
        "id": "611aSFv8GQpH"
      },
      "source": [
        "In this assignment, you are required to implement DenseNet to classify images from the [CIFAR10 dataset](https://www.cs.toronto.edu/~kriz/cifar.html) by using TensorFlow with Keras. DenseNet is very well-known and therefore it has been implemented and pre-trained by Keras. You are also required to load and test the pre-trained models, and compare them with your models.\n",
        "\n",
        "First of all, read the DenseNet paper. DenseNet was originally proposed in 2016 by Gao Huang, Zhuang Liu, Laurens van der Maaten, Kilian Q. Weinberger in the following paper:\n",
        "https://arxiv.org/abs/1608.06993\n",
        "\n",
        "The process will be broken down into the following steps:\n",
        ">\n",
        "1. Answer a short question about DenseNet. (10 marks)\n",
        "2. Load and visualize the data.\n",
        "3. Implement your models. (30 marks)\n",
        "4. Train and evaluate your models. (25 marks)\n",
        "5. Load the pre-trained models from Keras and evaluate them. (15 marks)\n",
        "6. Analysis your results. (20 marks)"
      ]
    },
    {
      "cell_type": "markdown",
      "metadata": {
        "id": "KCjuapQDGQpI"
      },
      "source": [
        "---\n",
        "## 1. Answer a short question (20 marks)\n",
        "\n",
        "Now that you know what DenseNet is all about, let's compare it to VGG.\n",
        "Both VGG and DenseNet papers describe several variations of their models that differ by their depth.\n",
        "For example, VGG16 and VGG19, DenseNet-121 and DenseNet-169 are four examples from these papers.\n",
        "\n",
        "Aside from difference in network depth, how is the architecture of DenseNet different from that of VGG? Please enter your answer in the next cell (approximately 100-200 words, both English and Chinese are acceptable)."
      ]
    },
    {
      "cell_type": "markdown",
      "metadata": {
        "id": "IU_yf-4FGQpJ"
      },
      "source": [
        "Answer:VGG的整个网络由卷积层和全连接层叠加而成，整个结构只有3*3的卷积盒，连续的卷积层后使用池化层隔开，结构简洁，是一种直接映射的思想。相比之下DenseNet引入了残差结构（ResNet），其网络结构主要由DenseBlock和TransitionLayer组成，DenseBlock使用的是一种比ResNet更加密集的连接方式，每一层都以一种前馈输入的方式其他每层相连接，实现了特征重用，TransitionLayer通过卷积和池化改变特征图大小。"
      ]
    },
    {
      "cell_type": "markdown",
      "metadata": {
        "id": "MOLaVxvTGQpJ"
      },
      "source": [
        "---\n",
        "## 2. Load and visualize the data.\n",
        "\n",
        "The data is directly loaded into memory."
      ]
    },
    {
      "cell_type": "code",
      "execution_count": 1,
      "metadata": {
        "colab": {
          "base_uri": "https://localhost:8080/"
        },
        "id": "Ad0qjFTZGQpJ",
        "outputId": "960be227-2a01-45d0-8ac4-a032db6084d8"
      },
      "outputs": [
        {
          "name": "stdout",
          "output_type": "stream",
          "text": [
            "Downloading data from https://www.cs.toronto.edu/~kriz/cifar-10-python.tar.gz\n",
            "170498071/170498071 [==============================] - 6s 0us/step\n",
            "x_train shape: (50000, 32, 32, 3)\n",
            "50000 train samples\n",
            "10000 test samples\n",
            "y_train shape: (50000, 1)\n"
          ]
        }
      ],
      "source": [
        "from tensorflow.keras.datasets import cifar10\n",
        "from tensorflow.keras.utils import to_categorical\n",
        "\n",
        "num_classes = 10\n",
        "\n",
        "# load the CIFAR10 data\n",
        "(x_train, y_train), (x_test, y_test) = cifar10.load_data()\n",
        "\n",
        "# input image dimensions\n",
        "input_shape = x_train.shape[1:]\n",
        "\n",
        "# mormalize data\n",
        "x_train = x_train.astype('float32') / 255\n",
        "x_test = x_test.astype('float32') / 255\n",
        "print('x_train shape:', x_train.shape)\n",
        "print(x_train.shape[0], 'train samples')\n",
        "print(x_test.shape[0], 'test samples')\n",
        "print('y_train shape:', y_train.shape)\n",
        "\n",
        "# convert class vectors to binary class matrices.\n",
        "y_train = to_categorical(y_train, num_classes)\n",
        "y_test = to_categorical(y_test, num_classes)"
      ]
    },
    {
      "cell_type": "code",
      "execution_count": 2,
      "metadata": {
        "colab": {
          "base_uri": "https://localhost:8080/",
          "height": 284
        },
        "id": "Hmc3QMhhGQpL",
        "outputId": "fdc6d8bf-0ed5-40a1-a2b7-b7874b05502e"
      },
      "outputs": [
        {
          "data": {
            "text/plain": [
              "<matplotlib.image.AxesImage at 0x7f6a6544a110>"
            ]
          },
          "execution_count": 2,
          "metadata": {},
          "output_type": "execute_result"
        },
        {
          "data": {
            "image/png": "[encoded data removed]",
            "text/plain": [
              "<Figure size 432x288 with 1 Axes>"
            ]
          },
          "metadata": {
            "needs_background": "light"
          },
          "output_type": "display_data"
        }
      ],
      "source": [
        "import matplotlib.pyplot as plt\n",
        "plt.imshow(x_train[0])"
      ]
    },
    {
      "cell_type": "markdown",
      "metadata": {
        "id": "F_wGvww3GQpL"
      },
      "source": [
        "## 3. Implement your models (30 marks)\n",
        "\n",
        "In this task, you are required to implement DenseNet-41 and DenseNet-49 with compression and bottleneck as depicted in the original paper. DenseNet-41 and DenseNet-49 follow the architecture of DenseNet and remove several convolution layers for time efficiency. Specifically, DenseNet-41 and DenseNet-49 have a group of 4 Dense Block, each has a set of [3,6,6,3] and [4,6,8,4] mini-block including a 1x1 conv follow by a 3x3 conv. For more details, please refer to Table 1 in the original paper."
      ]
    },
    {
      "cell_type": "code",
      "execution_count": 3,
      "metadata": {
        "id": "3Xg8sDoPG6dM"
      },
      "outputs": [],
      "source": [
        "import tensorflow as tf\n",
        "\n",
        "# 实现 conv_block\n",
        "def conv_block(x, growth_rate, dropout_rate):\n",
        "  # 带有Bottleneck结构 BN-relu-Conv2D(1*1)-dropout-BN-relu-Conv2D(3*3)-dropout\n",
        "  x = tf.keras.layers.BatchNormalization()(x)    # 标准化\n",
        "  x = tf.keras.layers.Activation('relu')(x)      # relu激活\n",
        "  x = tf.keras.layers.Convolution2D(             # 卷积 \n",
        "      filters = growth_rate*4,\n",
        "      kernel_size = (1, 1)\n",
        "  )(x)\n",
        "  x = tf.keras.layers.Dropout(dropout_rate)(x)\n",
        "\n",
        "  x = tf.keras.layers.BatchNormalization()(x)\n",
        "  x = tf.keras.layers.Activation('relu')(x)\n",
        "  x = tf.keras.layers.Convolution2D(             # 卷积\n",
        "      filters = growth_rate,\n",
        "      kernel_size = (3, 3),\n",
        "      padding='same'\n",
        "  )(x)\n",
        "  x = tf.keras.layers.Dropout(dropout_rate)(x)   # dropout\n",
        "  return x\n",
        "\n",
        "# 实现DenseBlock\n",
        "def dense_block(x, block_layers, block_channels, growth_rate, dropout_rate):\n",
        "  # 多个conv_block组成一个dense_block\n",
        "  for i in range(block_layers):\n",
        "    block = conv_block(x, growth_rate, dropout_rate)    # 一个conv_block\n",
        "    x = tf.keras.layers.concatenate([block, x])         # 连接起前面的层\n",
        "    block_channels += growth_rate                       # 通道数增加\n",
        "    return x, block_channels\n",
        "\n",
        "# 实现TransitionLayer\n",
        "def trans_layer(x, block_channels, dropout_rate, compression_rate):\n",
        "  # 带有compression的结构  BN-relu-Conv2D(compression_rate)-dropout-AvgPool\n",
        "  x = tf.keras.layers.BatchNormalization()(x)      # 标准化\n",
        "  x = tf.keras.layers.Activation('relu')(x)        # relu激活\n",
        "  x = tf.keras.layers.Convolution2D(               # 卷积 \n",
        "      filters = int(compression_rate*block_channels),\n",
        "      kernel_size = (1, 1),\n",
        "      padding='same'\n",
        "  )(x)\n",
        "  x = tf.keras.layers.Dropout(dropout_rate)(x)\n",
        "  x = tf.keras.layers.AveragePooling2D(pool_size=(2, 2), strides=(2, 2))(x)\n",
        "  return x\n",
        "\n",
        "# 实现densenet-bc\n",
        "def DenseNetBC(inputs_shape, block_channels, block_layers, growth_rate, dropout_rate, compression_rate):\n",
        "  inputs = tf.keras.layers.Input(inputs_shape)\n",
        "  # 1.卷积层：3×3 conv\n",
        "  x = tf.keras.layers.Convolution2D(             # 卷积 \n",
        "      filters = block_channels,\n",
        "      kernel_size = (3, 3),\n",
        "      padding='same'\n",
        "  )(inputs)\n",
        "\n",
        "  # 2.DenseBlock- TransitionLayer  D-T-D-T-D-T-D\n",
        "  for i in range(3):\n",
        "    # 稠密层 dense_block\n",
        "    x, block_channels = dense_block(x, block_layers[i], block_channels, growth_rate, dropout_rate)\n",
        "    # 过渡层 transition_layer\n",
        "    x = trans_layer(x, block_channels, dropout_rate, compression_rate)\n",
        "    block_channels = block_channels*compression_rate\n",
        "  x, block_channels = dense_block(x, block_layers[3], block_channels, growth_rate, dropout_rate)\n",
        " \n",
        "  # 3.BN+relu+GAvgPool+Dense\n",
        "  x = tf.keras.layers.BatchNormalization()(x)      # 标准化\n",
        "  x = tf.keras.layers.Activation('relu')(x)        # relu激活\n",
        "  x = tf.keras.layers.GlobalAveragePooling2D()(x)  # GAvgPool\n",
        "  x = tf.keras.layers.Dense(10)(x)                 # dense\n",
        "  outputs = tf.keras.layers.Activation('softmax')(x)\n",
        "  return tf.keras.models.Model(inputs, outputs)"
      ]
    },
    {
      "cell_type": "code",
      "execution_count": 4,
      "metadata": {
        "id": "-dtpnUJeGQpM"
      },
      "outputs": [],
      "source": [
        "# implement the code of your DenseNet-41 model here.\n",
        "densenet_bc_41 = DenseNetBC([32, 32, 3], 64, [3,6,6,3], 32, 0.4, 0.5)"
      ]
    },
    {
      "cell_type": "code",
      "execution_count": 5,
      "metadata": {
        "id": "3sztwQ3zGQpM"
      },
      "outputs": [],
      "source": [
        "# implement the code of your DenseNet-49 model here.\n",
        "densenet_bc_49 = DenseNetBC([32, 32, 3], 64, [4,6,8,4], 32, 0.4, 0.5)"
      ]
    },
    {
      "cell_type": "markdown",
      "metadata": {
        "id": "NUjAWA7zGQpM"
      },
      "source": [
        "---\n",
        "## 4. Train and evaluate your models. (25 marks)"
      ]
    },
    {
      "cell_type": "markdown",
      "metadata": {
        "id": "GbE12TB_GQpN"
      },
      "source": [
        "### 4.1 Train your models. (20 marks)"
      ]
    },
    {
      "cell_type": "code",
      "execution_count": 6,
      "metadata": {
        "colab": {
          "base_uri": "https://localhost:8080/"
        },
        "id": "7dgewatzGQpN",
        "outputId": "3186d1cb-f3c2-4eea-8e1c-c35c0f00500e"
      },
      "outputs": [
        {
          "name": "stdout",
          "output_type": "stream",
          "text": [
            "Epoch 1/100\n",
            "782/782 [==============================] - 32s 28ms/step - loss: 1.5531 - accuracy: 0.4260 - val_loss: 1.8494 - val_accuracy: 0.3849\n",
            "Epoch 2/100\n",
            "782/782 [==============================] - 21s 27ms/step - loss: 1.2173 - accuracy: 0.5568 - val_loss: 1.8658 - val_accuracy: 0.4499\n",
            "Epoch 3/100\n",
            "782/782 [==============================] - 22s 28ms/step - loss: 1.0962 - accuracy: 0.6043 - val_loss: 1.5054 - val_accuracy: 0.5038\n",
            "Epoch 4/100\n",
            "782/782 [==============================] - 22s 29ms/step - loss: 1.0178 - accuracy: 0.6340 - val_loss: 1.3467 - val_accuracy: 0.5322\n",
            "Epoch 5/100\n",
            "782/782 [==============================] - 22s 28ms/step - loss: 0.9710 - accuracy: 0.6512 - val_loss: 1.4835 - val_accuracy: 0.5580\n",
            "Epoch 6/100\n",
            "782/782 [==============================] - 22s 28ms/step - loss: 0.9400 - accuracy: 0.6649 - val_loss: 1.7581 - val_accuracy: 0.4828\n",
            "Epoch 7/100\n",
            "782/782 [==============================] - 21s 27ms/step - loss: 0.9072 - accuracy: 0.6759 - val_loss: 1.2129 - val_accuracy: 0.6211\n",
            "Epoch 8/100\n",
            "782/782 [==============================] - 22s 28ms/step - loss: 0.8858 - accuracy: 0.6838 - val_loss: 1.2225 - val_accuracy: 0.6223\n",
            "Epoch 9/100\n",
            "782/782 [==============================] - 22s 28ms/step - loss: 0.8651 - accuracy: 0.6928 - val_loss: 1.5426 - val_accuracy: 0.5576\n",
            "Epoch 10/100\n",
            "782/782 [==============================] - 22s 28ms/step - loss: 0.8479 - accuracy: 0.6976 - val_loss: 1.5291 - val_accuracy: 0.5542\n",
            "Epoch 11/100\n",
            "782/782 [==============================] - 21s 27ms/step - loss: 0.8249 - accuracy: 0.7081 - val_loss: 1.1313 - val_accuracy: 0.6404\n",
            "Epoch 12/100\n",
            "782/782 [==============================] - 22s 28ms/step - loss: 0.8131 - accuracy: 0.7115 - val_loss: 1.7050 - val_accuracy: 0.5546\n",
            "Epoch 13/100\n",
            "782/782 [==============================] - 22s 28ms/step - loss: 0.8017 - accuracy: 0.7156 - val_loss: 1.1111 - val_accuracy: 0.6546\n",
            "Epoch 14/100\n",
            "782/782 [==============================] - 22s 28ms/step - loss: 0.7898 - accuracy: 0.7191 - val_loss: 0.8232 - val_accuracy: 0.7284\n",
            "Epoch 15/100\n",
            "782/782 [==============================] - 22s 28ms/step - loss: 0.7744 - accuracy: 0.7260 - val_loss: 2.4550 - val_accuracy: 0.4887\n",
            "Epoch 16/100\n",
            "782/782 [==============================] - 22s 28ms/step - loss: 0.7661 - accuracy: 0.7293 - val_loss: 1.3198 - val_accuracy: 0.6210\n",
            "Epoch 17/100\n",
            "782/782 [==============================] - 22s 28ms/step - loss: 0.7554 - accuracy: 0.7327 - val_loss: 1.2262 - val_accuracy: 0.6462\n",
            "Epoch 18/100\n",
            "782/782 [==============================] - 22s 28ms/step - loss: 0.7428 - accuracy: 0.7373 - val_loss: 1.8343 - val_accuracy: 0.5612\n",
            "Epoch 19/100\n",
            "782/782 [==============================] - 22s 28ms/step - loss: 0.7368 - accuracy: 0.7394 - val_loss: 1.1909 - val_accuracy: 0.6525\n",
            "Epoch 20/100\n",
            "782/782 [==============================] - 22s 28ms/step - loss: 0.7299 - accuracy: 0.7433 - val_loss: 1.7528 - val_accuracy: 0.5549\n",
            "Epoch 21/100\n",
            "782/782 [==============================] - 21s 27ms/step - loss: 0.7213 - accuracy: 0.7455 - val_loss: 1.1260 - val_accuracy: 0.6727\n",
            "Epoch 22/100\n",
            "782/782 [==============================] - 22s 28ms/step - loss: 0.7150 - accuracy: 0.7489 - val_loss: 0.9331 - val_accuracy: 0.7133\n",
            "Epoch 23/100\n",
            "782/782 [==============================] - 22s 28ms/step - loss: 0.7072 - accuracy: 0.7499 - val_loss: 0.9224 - val_accuracy: 0.7199\n",
            "Epoch 24/100\n",
            "782/782 [==============================] - 22s 28ms/step - loss: 0.7020 - accuracy: 0.7520 - val_loss: 1.4262 - val_accuracy: 0.6282\n",
            "Epoch 25/100\n",
            "782/782 [==============================] - 22s 28ms/step - loss: 0.6977 - accuracy: 0.7533 - val_loss: 0.8370 - val_accuracy: 0.7379\n",
            "Epoch 26/100\n",
            "782/782 [==============================] - 21s 27ms/step - loss: 0.6920 - accuracy: 0.7550 - val_loss: 1.1133 - val_accuracy: 0.6904\n",
            "Epoch 27/100\n",
            "782/782 [==============================] - 22s 28ms/step - loss: 0.6782 - accuracy: 0.7614 - val_loss: 0.9566 - val_accuracy: 0.7068\n",
            "Epoch 28/100\n",
            "782/782 [==============================] - 22s 28ms/step - loss: 0.6772 - accuracy: 0.7621 - val_loss: 0.8068 - val_accuracy: 0.7537\n",
            "Epoch 29/100\n",
            "782/782 [==============================] - 22s 28ms/step - loss: 0.6708 - accuracy: 0.7644 - val_loss: 0.9510 - val_accuracy: 0.7257\n",
            "Epoch 30/100\n",
            "782/782 [==============================] - 22s 28ms/step - loss: 0.6636 - accuracy: 0.7663 - val_loss: 1.5290 - val_accuracy: 0.6199\n",
            "Epoch 31/100\n",
            "782/782 [==============================] - 22s 28ms/step - loss: 0.6574 - accuracy: 0.7671 - val_loss: 0.8884 - val_accuracy: 0.7294\n",
            "Epoch 32/100\n",
            "782/782 [==============================] - 21s 27ms/step - loss: 0.6548 - accuracy: 0.7707 - val_loss: 1.1800 - val_accuracy: 0.6684\n",
            "Epoch 33/100\n",
            "782/782 [==============================] - 23s 29ms/step - loss: 0.6511 - accuracy: 0.7715 - val_loss: 1.4040 - val_accuracy: 0.6350\n",
            "Epoch 34/100\n",
            "782/782 [==============================] - 22s 28ms/step - loss: 0.6431 - accuracy: 0.7719 - val_loss: 1.2413 - val_accuracy: 0.6594\n",
            "Epoch 35/100\n",
            "782/782 [==============================] - 22s 28ms/step - loss: 0.6399 - accuracy: 0.7768 - val_loss: 1.1216 - val_accuracy: 0.6909\n",
            "Epoch 36/100\n",
            "782/782 [==============================] - 21s 27ms/step - loss: 0.6406 - accuracy: 0.7775 - val_loss: 0.9729 - val_accuracy: 0.7202\n",
            "Epoch 37/100\n",
            "782/782 [==============================] - 22s 28ms/step - loss: 0.6314 - accuracy: 0.7762 - val_loss: 0.9807 - val_accuracy: 0.7181\n",
            "Epoch 38/100\n",
            "782/782 [==============================] - 21s 27ms/step - loss: 0.6263 - accuracy: 0.7779 - val_loss: 1.1185 - val_accuracy: 0.7000\n",
            "Epoch 39/100\n",
            "782/782 [==============================] - 22s 28ms/step - loss: 0.6246 - accuracy: 0.7814 - val_loss: 1.2407 - val_accuracy: 0.6760\n",
            "Epoch 40/100\n",
            "782/782 [==============================] - 22s 29ms/step - loss: 0.6220 - accuracy: 0.7816 - val_loss: 0.7612 - val_accuracy: 0.7668\n",
            "Epoch 41/100\n",
            "782/782 [==============================] - 21s 27ms/step - loss: 0.6154 - accuracy: 0.7858 - val_loss: 0.9640 - val_accuracy: 0.7220\n",
            "Epoch 42/100\n",
            "782/782 [==============================] - 21s 27ms/step - loss: 0.6128 - accuracy: 0.7856 - val_loss: 1.0500 - val_accuracy: 0.7132\n",
            "Epoch 43/100\n",
            "782/782 [==============================] - 22s 28ms/step - loss: 0.6066 - accuracy: 0.7873 - val_loss: 1.3054 - val_accuracy: 0.6706\n",
            "Epoch 44/100\n",
            "782/782 [==============================] - 21s 27ms/step - loss: 0.6082 - accuracy: 0.7858 - val_loss: 1.0176 - val_accuracy: 0.7090\n",
            "Epoch 45/100\n",
            "782/782 [==============================] - 21s 27ms/step - loss: 0.6040 - accuracy: 0.7899 - val_loss: 0.8070 - val_accuracy: 0.7565\n",
            "Epoch 46/100\n",
            "782/782 [==============================] - 22s 28ms/step - loss: 0.6007 - accuracy: 0.7878 - val_loss: 1.0933 - val_accuracy: 0.7064\n",
            "Epoch 47/100\n",
            "782/782 [==============================] - 21s 27ms/step - loss: 0.5975 - accuracy: 0.7916 - val_loss: 0.9003 - val_accuracy: 0.7482\n",
            "Epoch 48/100\n",
            "782/782 [==============================] - 22s 28ms/step - loss: 0.5935 - accuracy: 0.7922 - val_loss: 0.8467 - val_accuracy: 0.7574\n",
            "Epoch 49/100\n",
            "782/782 [==============================] - 22s 28ms/step - loss: 0.5898 - accuracy: 0.7926 - val_loss: 0.8011 - val_accuracy: 0.7545\n",
            "Epoch 50/100\n",
            "782/782 [==============================] - 21s 27ms/step - loss: 0.5854 - accuracy: 0.7958 - val_loss: 0.8915 - val_accuracy: 0.7519\n",
            "Epoch 51/100\n",
            "782/782 [==============================] - 22s 28ms/step - loss: 0.5892 - accuracy: 0.7921 - val_loss: 0.8403 - val_accuracy: 0.7607\n",
            "Epoch 52/100\n",
            "782/782 [==============================] - 22s 28ms/step - loss: 0.5791 - accuracy: 0.7979 - val_loss: 0.9858 - val_accuracy: 0.7349\n",
            "Epoch 53/100\n",
            "782/782 [==============================] - 21s 27ms/step - loss: 0.5784 - accuracy: 0.7978 - val_loss: 0.6745 - val_accuracy: 0.7978\n",
            "Epoch 54/100\n",
            "782/782 [==============================] - 21s 27ms/step - loss: 0.5769 - accuracy: 0.7984 - val_loss: 0.8050 - val_accuracy: 0.7694\n",
            "Epoch 55/100\n",
            "782/782 [==============================] - 22s 28ms/step - loss: 0.5810 - accuracy: 0.7952 - val_loss: 0.8507 - val_accuracy: 0.7589\n",
            "Epoch 56/100\n",
            "782/782 [==============================] - 22s 28ms/step - loss: 0.5703 - accuracy: 0.8005 - val_loss: 0.6867 - val_accuracy: 0.7997\n",
            "Epoch 57/100\n",
            "782/782 [==============================] - 21s 27ms/step - loss: 0.5704 - accuracy: 0.7996 - val_loss: 1.0294 - val_accuracy: 0.7244\n",
            "Epoch 58/100\n",
            "782/782 [==============================] - 22s 28ms/step - loss: 0.5692 - accuracy: 0.8005 - val_loss: 0.8328 - val_accuracy: 0.7638\n",
            "Epoch 59/100\n",
            "782/782 [==============================] - 21s 27ms/step - loss: 0.5653 - accuracy: 0.8005 - val_loss: 0.8288 - val_accuracy: 0.7661\n",
            "Epoch 60/100\n",
            "782/782 [==============================] - 22s 28ms/step - loss: 0.5625 - accuracy: 0.8041 - val_loss: 0.7536 - val_accuracy: 0.7835\n",
            "Epoch 61/100\n",
            "782/782 [==============================] - 22s 28ms/step - loss: 0.5590 - accuracy: 0.8040 - val_loss: 0.7840 - val_accuracy: 0.7762\n",
            "Epoch 62/100\n",
            "782/782 [==============================] - 25s 32ms/step - loss: 0.5563 - accuracy: 0.8052 - val_loss: 0.9429 - val_accuracy: 0.7332\n",
            "Epoch 63/100\n",
            "782/782 [==============================] - 22s 28ms/step - loss: 0.5605 - accuracy: 0.8033 - val_loss: 0.9587 - val_accuracy: 0.7353\n",
            "Epoch 64/100\n",
            "782/782 [==============================] - 22s 28ms/step - loss: 0.5559 - accuracy: 0.8058 - val_loss: 1.0246 - val_accuracy: 0.7294\n",
            "Epoch 65/100\n",
            "782/782 [==============================] - 21s 27ms/step - loss: 0.5514 - accuracy: 0.8074 - val_loss: 0.7921 - val_accuracy: 0.7796\n",
            "Epoch 66/100\n",
            "782/782 [==============================] - 22s 28ms/step - loss: 0.5500 - accuracy: 0.8077 - val_loss: 0.7909 - val_accuracy: 0.7691\n",
            "782/782 [==============================] - 22s 28ms/step - loss: 0.5500 - accuracy: 0.8077 - val_loss: 0.7909 - val_accuracy: 0.7691\n",
            "Epoch 67/100\n",
            "Epoch 67/100\n",
            "782/782 [==============================] - 22s 28ms/step - loss: 0.5465 - accuracy: 0.8079 - val_loss: 1.1412 - val_accuracy: 0.7027\n",
            "782/782 [==============================] - 22s 28ms/step - loss: 0.5465 - accuracy: 0.8079 - val_loss: 1.1412 - val_accuracy: 0.7027\n",
            "Epoch 68/100\n",
            "Epoch 68/100\n",
            "782/782 [==============================] - 23s 29ms/step - loss: 0.5472 - accuracy: 0.8092 - val_loss: 0.7558 - val_accuracy: 0.7839\n",
            "782/782 [==============================] - 23s 29ms/step - loss: 0.5472 - accuracy: 0.8092 - val_loss: 0.7558 - val_accuracy: 0.7839\n",
            "Epoch 69/100\n",
            "Epoch 69/100\n",
            "782/782 [==============================] - 22s 28ms/step - loss: 0.5438 - accuracy: 0.8107 - val_loss: 0.7626 - val_accuracy: 0.7828\n",
            "782/782 [==============================] - 22s 28ms/step - loss: 0.5438 - accuracy: 0.8107 - val_loss: 0.7626 - val_accuracy: 0.7828\n",
            "Epoch 70/100\n",
            "Epoch 70/100\n",
            "782/782 [==============================] - 23s 29ms/step - loss: 0.5393 - accuracy: 0.8107 - val_loss: 0.9019 - val_accuracy: 0.7524\n",
            "782/782 [==============================] - 23s 29ms/step - loss: 0.5393 - accuracy: 0.8107 - val_loss: 0.9019 - val_accuracy: 0.7524\n",
            "Epoch 71/100\n",
            "Epoch 71/100\n",
            "782/782 [==============================] - 22s 28ms/step - loss: 0.5427 - accuracy: 0.8080 - val_loss: 0.8616 - val_accuracy: 0.7701\n",
            "782/782 [==============================] - 22s 28ms/step - loss: 0.5427 - accuracy: 0.8080 - val_loss: 0.8616 - val_accuracy: 0.7701\n",
            "Epoch 72/100\n",
            "Epoch 72/100\n",
            "782/782 [==============================] - 23s 29ms/step - loss: 0.5353 - accuracy: 0.8134 - val_loss: 0.6489 - val_accuracy: 0.8035\n",
            "782/782 [==============================] - 23s 29ms/step - loss: 0.5353 - accuracy: 0.8134 - val_loss: 0.6489 - val_accuracy: 0.8035\n",
            "Epoch 73/100\n",
            "Epoch 73/100\n",
            "782/782 [==============================] - 23s 29ms/step - loss: 0.5417 - accuracy: 0.8105 - val_loss: 0.9356 - val_accuracy: 0.7544\n",
            "782/782 [==============================] - 23s 29ms/step - loss: 0.5417 - accuracy: 0.8105 - val_loss: 0.9356 - val_accuracy: 0.7544\n",
            "Epoch 74/100\n",
            "Epoch 74/100\n",
            "782/782 [==============================] - 22s 29ms/step - loss: 0.5418 - accuracy: 0.8099 - val_loss: 0.6879 - val_accuracy: 0.7934\n",
            "782/782 [==============================] - 22s 29ms/step - loss: 0.5418 - accuracy: 0.8099 - val_loss: 0.6879 - val_accuracy: 0.7934\n",
            "Epoch 75/100\n",
            "Epoch 75/100\n",
            "782/782 [==============================] - 22s 28ms/step - loss: 0.5355 - accuracy: 0.8141 - val_loss: 0.7062 - val_accuracy: 0.7906\n",
            "782/782 [==============================] - 22s 28ms/step - loss: 0.5355 - accuracy: 0.8141 - val_loss: 0.7062 - val_accuracy: 0.7906\n",
            "Epoch 76/100\n",
            "Epoch 76/100\n",
            "782/782 [==============================] - 23s 29ms/step - loss: 0.5314 - accuracy: 0.8139 - val_loss: 1.3609 - val_accuracy: 0.6772\n",
            "782/782 [==============================] - 23s 29ms/step - loss: 0.5314 - accuracy: 0.8139 - val_loss: 1.3609 - val_accuracy: 0.6772\n",
            "Epoch 77/100\n",
            "Epoch 77/100\n",
            "782/782 [==============================] - 23s 29ms/step - loss: 0.5316 - accuracy: 0.8137 - val_loss: 0.8895 - val_accuracy: 0.7572\n",
            "782/782 [==============================] - 23s 29ms/step - loss: 0.5316 - accuracy: 0.8137 - val_loss: 0.8895 - val_accuracy: 0.7572\n",
            "Epoch 78/100\n",
            "Epoch 78/100\n",
            "782/782 [==============================] - 23s 29ms/step - loss: 0.5326 - accuracy: 0.8132 - val_loss: 0.7525 - val_accuracy: 0.7864\n",
            "782/782 [==============================] - 23s 29ms/step - loss: 0.5326 - accuracy: 0.8132 - val_loss: 0.7525 - val_accuracy: 0.7864\n",
            "Epoch 79/100\n",
            "Epoch 79/100\n",
            "782/782 [==============================] - 23s 29ms/step - loss: 0.5274 - accuracy: 0.8164 - val_loss: 0.7052 - val_accuracy: 0.8005\n",
            "782/782 [==============================] - 23s 29ms/step - loss: 0.5274 - accuracy: 0.8164 - val_loss: 0.7052 - val_accuracy: 0.8005\n",
            "Epoch 80/100\n",
            "Epoch 80/100\n",
            "782/782 [==============================] - 22s 29ms/step - loss: 0.5261 - accuracy: 0.8169 - val_loss: 0.7551 - val_accuracy: 0.7847\n",
            "782/782 [==============================] - 22s 29ms/step - loss: 0.5261 - accuracy: 0.8169 - val_loss: 0.7551 - val_accuracy: 0.7847\n",
            "Epoch 81/100\n",
            "Epoch 81/100\n",
            "782/782 [==============================] - 22s 28ms/step - loss: 0.5281 - accuracy: 0.8148 - val_loss: 0.6932 - val_accuracy: 0.7987\n",
            "782/782 [==============================] - 22s 28ms/step - loss: 0.5281 - accuracy: 0.8148 - val_loss: 0.6932 - val_accuracy: 0.7987\n",
            "Epoch 82/100\n",
            "Epoch 82/100\n",
            "782/782 [==============================] - 23s 29ms/step - loss: 0.5238 - accuracy: 0.8179 - val_loss: 0.9578 - val_accuracy: 0.7384\n",
            "782/782 [==============================] - 23s 29ms/step - loss: 0.5238 - accuracy: 0.8179 - val_loss: 0.9578 - val_accuracy: 0.7384\n",
            "Epoch 83/100\n",
            "Epoch 83/100\n",
            "782/782 [==============================] - 22s 29ms/step - loss: 0.5259 - accuracy: 0.8164 - val_loss: 1.0137 - val_accuracy: 0.7328\n",
            "782/782 [==============================] - 22s 29ms/step - loss: 0.5259 - accuracy: 0.8164 - val_loss: 1.0137 - val_accuracy: 0.7328\n",
            "Epoch 84/100\n",
            "Epoch 84/100\n",
            "782/782 [==============================] - 23s 29ms/step - loss: 0.5181 - accuracy: 0.8186 - val_loss: 0.7015 - val_accuracy: 0.7970\n",
            "782/782 [==============================] - 23s 29ms/step - loss: 0.5181 - accuracy: 0.8186 - val_loss: 0.7015 - val_accuracy: 0.7970\n",
            "Epoch 85/100\n",
            "Epoch 85/100\n",
            "782/782 [==============================] - 23s 29ms/step - loss: 0.5235 - accuracy: 0.8166 - val_loss: 0.8388 - val_accuracy: 0.7652\n",
            "782/782 [==============================] - 23s 29ms/step - loss: 0.5235 - accuracy: 0.8166 - val_loss: 0.8388 - val_accuracy: 0.7652\n",
            "Epoch 86/100\n",
            "Epoch 86/100\n",
            "782/782 [==============================] - 22s 28ms/step - loss: 0.5169 - accuracy: 0.8190 - val_loss: 0.7494 - val_accuracy: 0.7893\n",
            "782/782 [==============================] - 22s 28ms/step - loss: 0.5169 - accuracy: 0.8190 - val_loss: 0.7494 - val_accuracy: 0.7893\n",
            "Epoch 87/100\n",
            "Epoch 87/100\n",
            "782/782 [==============================] - 22s 29ms/step - loss: 0.5218 - accuracy: 0.8160 - val_loss: 0.8245 - val_accuracy: 0.7772\n",
            "782/782 [==============================] - 22s 29ms/step - loss: 0.5218 - accuracy: 0.8160 - val_loss: 0.8245 - val_accuracy: 0.7772\n",
            "Epoch 88/100\n",
            "Epoch 88/100\n",
            "782/782 [==============================] - 23s 29ms/step - loss: 0.5173 - accuracy: 0.8176 - val_loss: 0.6971 - val_accuracy: 0.8008\n",
            "782/782 [==============================] - 23s 29ms/step - loss: 0.5173 - accuracy: 0.8176 - val_loss: 0.6971 - val_accuracy: 0.8008\n",
            "Epoch 89/100\n",
            "Epoch 89/100\n",
            "782/782 [==============================] - 22s 28ms/step - loss: 0.5162 - accuracy: 0.8204 - val_loss: 0.7724 - val_accuracy: 0.7903\n",
            "782/782 [==============================] - 22s 28ms/step - loss: 0.5162 - accuracy: 0.8204 - val_loss: 0.7724 - val_accuracy: 0.7903\n",
            "Epoch 90/100\n",
            "Epoch 90/100\n",
            "782/782 [==============================] - 22s 29ms/step - loss: 0.5127 - accuracy: 0.8193 - val_loss: 0.9724 - val_accuracy: 0.7498\n",
            "782/782 [==============================] - 22s 29ms/step - loss: 0.5127 - accuracy: 0.8193 - val_loss: 0.9724 - val_accuracy: 0.7498\n",
            "Epoch 91/100\n",
            "Epoch 91/100\n",
            "782/782 [==============================] - 22s 28ms/step - loss: 0.5088 - accuracy: 0.8213 - val_loss: 0.6951 - val_accuracy: 0.8042\n",
            "782/782 [==============================] - 22s 28ms/step - loss: 0.5088 - accuracy: 0.8213 - val_loss: 0.6951 - val_accuracy: 0.8042\n",
            "Epoch 92/100\n",
            "Epoch 92/100\n",
            "782/782 [==============================] - 23s 29ms/step - loss: 0.5131 - accuracy: 0.8214 - val_loss: 0.7275 - val_accuracy: 0.7988\n",
            "782/782 [==============================] - 23s 29ms/step - loss: 0.5131 - accuracy: 0.8214 - val_loss: 0.7275 - val_accuracy: 0.7988\n",
            "Epoch 93/100\n",
            "Epoch 93/100\n",
            "782/782 [==============================] - 23s 29ms/step - loss: 0.5035 - accuracy: 0.8231 - val_loss: 0.6704 - val_accuracy: 0.8105\n",
            "782/782 [==============================] - 23s 29ms/step - loss: 0.5035 - accuracy: 0.8231 - val_loss: 0.6704 - val_accuracy: 0.8105\n",
            "Epoch 94/100\n",
            "Epoch 94/100\n",
            "782/782 [==============================] - 22s 28ms/step - loss: 0.5105 - accuracy: 0.8198 - val_loss: 0.7076 - val_accuracy: 0.8022\n",
            "782/782 [==============================] - 22s 28ms/step - loss: 0.5105 - accuracy: 0.8198 - val_loss: 0.7076 - val_accuracy: 0.8022\n",
            "Epoch 95/100\n",
            "Epoch 95/100\n",
            "782/782 [==============================] - 22s 29ms/step - loss: 0.5120 - accuracy: 0.8210 - val_loss: 0.6452 - val_accuracy: 0.8145\n",
            "782/782 [==============================] - 22s 29ms/step - loss: 0.5120 - accuracy: 0.8210 - val_loss: 0.6452 - val_accuracy: 0.8145\n",
            "Epoch 96/100\n",
            "Epoch 96/100\n",
            "782/782 [==============================] - 23s 29ms/step - loss: 0.5083 - accuracy: 0.8218 - val_loss: 0.8066 - val_accuracy: 0.7751\n",
            "782/782 [==============================] - 23s 29ms/step - loss: 0.5083 - accuracy: 0.8218 - val_loss: 0.8066 - val_accuracy: 0.7751\n",
            "Epoch 97/100\n",
            "Epoch 97/100\n",
            "782/782 [==============================] - 22s 29ms/step - loss: 0.5054 - accuracy: 0.8237 - val_loss: 1.0663 - val_accuracy: 0.7155\n",
            "782/782 [==============================] - 22s 29ms/step - loss: 0.5054 - accuracy: 0.8237 - val_loss: 1.0663 - val_accuracy: 0.7155\n",
            "Epoch 98/100\n",
            "Epoch 98/100\n",
            "782/782 [==============================] - 23s 29ms/step - loss: 0.5077 - accuracy: 0.8213 - val_loss: 0.9494 - val_accuracy: 0.7605\n",
            "782/782 [==============================] - 23s 29ms/step - loss: 0.5077 - accuracy: 0.8213 - val_loss: 0.9494 - val_accuracy: 0.7605\n",
            "Epoch 99/100\n",
            "Epoch 99/100\n",
            "782/782 [==============================] - 22s 28ms/step - loss: 0.5019 - accuracy: 0.8240 - val_loss: 0.6290 - val_accuracy: 0.8122\n",
            "782/782 [==============================] - 22s 28ms/step - loss: 0.5019 - accuracy: 0.8240 - val_loss: 0.6290 - val_accuracy: 0.8122\n",
            "Epoch 100/100\n",
            "Epoch 100/100\n",
            "782/782 [==============================] - 23s 29ms/step - loss: 0.5046 - accuracy: 0.8235 - val_loss: 0.7582 - val_accuracy: 0.7799\n",
            "782/782 [==============================] - 23s 29ms/step - loss: 0.5046 - accuracy: 0.8235 - val_loss: 0.7582 - val_accuracy: 0.7799\n"
          ]
        }
      ],
      "source": [
        "# train densenet_bc_41\n",
        "densenet_bc_41.compile(loss=tf.keras.losses.categorical_crossentropy ,optimizer=tf.keras.optimizers.Adam(learning_rate=0.001) ,metrics=['accuracy'])\n",
        "history1 = densenet_bc_41.fit(x_train, y_train, epochs=100 , batch_size=64 , validation_data=(x_test, y_test))"
      ]
    },
    {
      "cell_type": "code",
      "execution_count": 11,
      "metadata": {
        "colab": {
          "base_uri": "https://localhost:8080/"
        },
        "id": "4RnDzWiRhPJq",
        "outputId": "0d468de5-a60b-44dd-a41c-7c3542872057"
      },
      "outputs": [
        {
          "name": "stderr",
          "output_type": "stream",
          "text": [
            "/usr/local/lib/python3.7/dist-packages/keras/optimizers/optimizer_v2/adam.py:110: UserWarning: The `lr` argument is deprecated, use `learning_rate` instead.\n",
            "  super(Adam, self).__init__(name, **kwargs)\n"
          ]
        },
        {
          "name": "stdout",
          "output_type": "stream",
          "text": [
            "Epoch 1/100\n",
            "782/782 [==============================] - 24s 29ms/step - loss: 1.5725 - accuracy: 0.4200 - val_loss: 1.5931 - val_accuracy: 0.4295\n",
            "Epoch 2/100\n",
            "782/782 [==============================] - 22s 28ms/step - loss: 1.2339 - accuracy: 0.5506 - val_loss: 1.7877 - val_accuracy: 0.4647\n",
            "Epoch 3/100\n",
            "782/782 [==============================] - 22s 29ms/step - loss: 1.1039 - accuracy: 0.6029 - val_loss: 2.0411 - val_accuracy: 0.4216\n",
            "Epoch 4/100\n",
            "782/782 [==============================] - 22s 28ms/step - loss: 1.0272 - accuracy: 0.6307 - val_loss: 2.0531 - val_accuracy: 0.4158\n",
            "Epoch 5/100\n",
            "782/782 [==============================] - 22s 28ms/step - loss: 0.9844 - accuracy: 0.6457 - val_loss: 1.7982 - val_accuracy: 0.4918\n",
            "Epoch 6/100\n",
            "782/782 [==============================] - 22s 29ms/step - loss: 0.9423 - accuracy: 0.6635 - val_loss: 1.9440 - val_accuracy: 0.4392\n",
            "Epoch 7/100\n",
            "782/782 [==============================] - 22s 28ms/step - loss: 0.9085 - accuracy: 0.6746 - val_loss: 1.0108 - val_accuracy: 0.6601\n",
            "Epoch 8/100\n",
            "782/782 [==============================] - 22s 28ms/step - loss: 0.8805 - accuracy: 0.6855 - val_loss: 1.5066 - val_accuracy: 0.5605\n",
            "Epoch 9/100\n",
            "782/782 [==============================] - 22s 28ms/step - loss: 0.8618 - accuracy: 0.6927 - val_loss: 2.7946 - val_accuracy: 0.4153\n",
            "Epoch 10/100\n",
            "782/782 [==============================] - 22s 28ms/step - loss: 0.8447 - accuracy: 0.7003 - val_loss: 1.2499 - val_accuracy: 0.5970\n",
            "Epoch 11/100\n",
            "782/782 [==============================] - 22s 28ms/step - loss: 0.8250 - accuracy: 0.7080 - val_loss: 0.9339 - val_accuracy: 0.6924\n",
            "Epoch 12/100\n",
            "782/782 [==============================] - 22s 28ms/step - loss: 0.8067 - accuracy: 0.7140 - val_loss: 1.2707 - val_accuracy: 0.6129\n",
            "Epoch 13/100\n",
            "782/782 [==============================] - 22s 28ms/step - loss: 0.7942 - accuracy: 0.7191 - val_loss: 0.9601 - val_accuracy: 0.6934\n",
            "Epoch 14/100\n",
            "782/782 [==============================] - 22s 28ms/step - loss: 0.7843 - accuracy: 0.7215 - val_loss: 1.9820 - val_accuracy: 0.5112\n",
            "Epoch 15/100\n",
            "782/782 [==============================] - 22s 28ms/step - loss: 0.7708 - accuracy: 0.7266 - val_loss: 1.8661 - val_accuracy: 0.5435\n",
            "Epoch 16/100\n",
            "782/782 [==============================] - 22s 29ms/step - loss: 0.7590 - accuracy: 0.7317 - val_loss: 1.1440 - val_accuracy: 0.6806\n",
            "Epoch 17/100\n",
            "782/782 [==============================] - 22s 28ms/step - loss: 0.7460 - accuracy: 0.7373 - val_loss: 0.9648 - val_accuracy: 0.7024\n",
            "Epoch 18/100\n",
            "782/782 [==============================] - 22s 28ms/step - loss: 0.7398 - accuracy: 0.7390 - val_loss: 1.1106 - val_accuracy: 0.6613\n",
            "Epoch 19/100\n",
            "782/782 [==============================] - 22s 28ms/step - loss: 0.7251 - accuracy: 0.7438 - val_loss: 0.8952 - val_accuracy: 0.7142\n",
            "Epoch 20/100\n",
            "782/782 [==============================] - 22s 28ms/step - loss: 0.7213 - accuracy: 0.7459 - val_loss: 1.1132 - val_accuracy: 0.6725\n",
            "Epoch 21/100\n",
            "782/782 [==============================] - 22s 28ms/step - loss: 0.7082 - accuracy: 0.7487 - val_loss: 1.1938 - val_accuracy: 0.6598\n",
            "Epoch 22/100\n",
            "782/782 [==============================] - 22s 28ms/step - loss: 0.7051 - accuracy: 0.7516 - val_loss: 2.2425 - val_accuracy: 0.5178\n",
            "Epoch 23/100\n",
            "782/782 [==============================] - 22s 28ms/step - loss: 0.6910 - accuracy: 0.7548 - val_loss: 0.9093 - val_accuracy: 0.7189\n",
            "Epoch 24/100\n",
            "782/782 [==============================] - 22s 28ms/step - loss: 0.6936 - accuracy: 0.7551 - val_loss: 0.7576 - val_accuracy: 0.7583\n",
            "Epoch 25/100\n",
            "782/782 [==============================] - 22s 28ms/step - loss: 0.6826 - accuracy: 0.7597 - val_loss: 1.0238 - val_accuracy: 0.7070\n",
            "Epoch 26/100\n",
            "782/782 [==============================] - 22s 29ms/step - loss: 0.6758 - accuracy: 0.7626 - val_loss: 0.7946 - val_accuracy: 0.7464\n",
            "Epoch 27/100\n",
            "782/782 [==============================] - 22s 28ms/step - loss: 0.6690 - accuracy: 0.7620 - val_loss: 0.9072 - val_accuracy: 0.7214\n",
            "Epoch 28/100\n",
            "782/782 [==============================] - 22s 28ms/step - loss: 0.6627 - accuracy: 0.7649 - val_loss: 0.8247 - val_accuracy: 0.7367\n",
            "Epoch 29/100\n",
            "782/782 [==============================] - 22s 28ms/step - loss: 0.6584 - accuracy: 0.7664 - val_loss: 0.8295 - val_accuracy: 0.7493\n",
            "Epoch 30/100\n",
            "782/782 [==============================] - 22s 28ms/step - loss: 0.6503 - accuracy: 0.7705 - val_loss: 0.7491 - val_accuracy: 0.7633\n",
            "Epoch 31/100\n",
            "782/782 [==============================] - 22s 28ms/step - loss: 0.6456 - accuracy: 0.7713 - val_loss: 0.8445 - val_accuracy: 0.7423\n",
            "Epoch 32/100\n",
            "782/782 [==============================] - 22s 28ms/step - loss: 0.6436 - accuracy: 0.7734 - val_loss: 0.7517 - val_accuracy: 0.7639\n",
            "Epoch 33/100\n",
            "782/782 [==============================] - 22s 28ms/step - loss: 0.6366 - accuracy: 0.7772 - val_loss: 1.1799 - val_accuracy: 0.6846\n",
            "Epoch 34/100\n",
            "782/782 [==============================] - 22s 28ms/step - loss: 0.6316 - accuracy: 0.7782 - val_loss: 0.8725 - val_accuracy: 0.7393\n",
            "Epoch 35/100\n",
            "782/782 [==============================] - 22s 28ms/step - loss: 0.6313 - accuracy: 0.7781 - val_loss: 2.1301 - val_accuracy: 0.5450\n",
            "Epoch 36/100\n",
            "782/782 [==============================] - 22s 29ms/step - loss: 0.6245 - accuracy: 0.7819 - val_loss: 1.4094 - val_accuracy: 0.6453\n",
            "Epoch 37/100\n",
            "782/782 [==============================] - 22s 28ms/step - loss: 0.6237 - accuracy: 0.7804 - val_loss: 0.8055 - val_accuracy: 0.7562\n",
            "Epoch 38/100\n",
            "782/782 [==============================] - 22s 29ms/step - loss: 0.6148 - accuracy: 0.7831 - val_loss: 0.7704 - val_accuracy: 0.7727\n",
            "Epoch 39/100\n",
            "782/782 [==============================] - 22s 28ms/step - loss: 0.6139 - accuracy: 0.7832 - val_loss: 0.7790 - val_accuracy: 0.7680\n",
            "Epoch 40/100\n",
            "782/782 [==============================] - 22s 29ms/step - loss: 0.6102 - accuracy: 0.7848 - val_loss: 0.9221 - val_accuracy: 0.7358\n",
            "Epoch 41/100\n",
            "782/782 [==============================] - 22s 28ms/step - loss: 0.6011 - accuracy: 0.7894 - val_loss: 1.0033 - val_accuracy: 0.7088\n",
            "Epoch 42/100\n",
            "782/782 [==============================] - 22s 28ms/step - loss: 0.6024 - accuracy: 0.7878 - val_loss: 0.8219 - val_accuracy: 0.7546\n",
            "Epoch 43/100\n",
            "782/782 [==============================] - 22s 28ms/step - loss: 0.5965 - accuracy: 0.7922 - val_loss: 1.1188 - val_accuracy: 0.7130\n",
            "Epoch 44/100\n",
            "782/782 [==============================] - 22s 28ms/step - loss: 0.5959 - accuracy: 0.7897 - val_loss: 0.8688 - val_accuracy: 0.7483\n",
            "Epoch 45/100\n",
            "782/782 [==============================] - 22s 28ms/step - loss: 0.5885 - accuracy: 0.7935 - val_loss: 0.8518 - val_accuracy: 0.7605\n",
            "Epoch 46/100\n",
            "782/782 [==============================] - 22s 28ms/step - loss: 0.5902 - accuracy: 0.7913 - val_loss: 0.7663 - val_accuracy: 0.7723\n",
            "Epoch 47/100\n",
            "782/782 [==============================] - 22s 28ms/step - loss: 0.5854 - accuracy: 0.7960 - val_loss: 0.7225 - val_accuracy: 0.7801\n",
            "Epoch 48/100\n",
            "782/782 [==============================] - 22s 28ms/step - loss: 0.5766 - accuracy: 0.7988 - val_loss: 0.8240 - val_accuracy: 0.7667\n",
            "Epoch 49/100\n",
            "782/782 [==============================] - 22s 28ms/step - loss: 0.5822 - accuracy: 0.7928 - val_loss: 1.1583 - val_accuracy: 0.7062\n",
            "Epoch 50/100\n",
            "782/782 [==============================] - 22s 28ms/step - loss: 0.5843 - accuracy: 0.7960 - val_loss: 1.3067 - val_accuracy: 0.6719\n",
            "Epoch 51/100\n",
            "782/782 [==============================] - 22s 29ms/step - loss: 0.5738 - accuracy: 0.7976 - val_loss: 0.7410 - val_accuracy: 0.7760\n",
            "Epoch 52/100\n",
            "782/782 [==============================] - 22s 28ms/step - loss: 0.5719 - accuracy: 0.7989 - val_loss: 0.8598 - val_accuracy: 0.7555\n",
            "Epoch 53/100\n",
            "782/782 [==============================] - 22s 28ms/step - loss: 0.5693 - accuracy: 0.8009 - val_loss: 1.0569 - val_accuracy: 0.7123\n",
            "Epoch 54/100\n",
            "782/782 [==============================] - 22s 28ms/step - loss: 0.5654 - accuracy: 0.8004 - val_loss: 1.0544 - val_accuracy: 0.7264\n",
            "Epoch 55/100\n",
            "782/782 [==============================] - 22s 28ms/step - loss: 0.5641 - accuracy: 0.8022 - val_loss: 0.9342 - val_accuracy: 0.7404\n",
            "Epoch 56/100\n",
            "782/782 [==============================] - 22s 28ms/step - loss: 0.5625 - accuracy: 0.8028 - val_loss: 1.1422 - val_accuracy: 0.6904\n",
            "Epoch 57/100\n",
            "782/782 [==============================] - 22s 28ms/step - loss: 0.5575 - accuracy: 0.8041 - val_loss: 0.8230 - val_accuracy: 0.7640\n",
            "Epoch 58/100\n",
            "782/782 [==============================] - 22s 28ms/step - loss: 0.5558 - accuracy: 0.8058 - val_loss: 0.7585 - val_accuracy: 0.7751\n",
            "Epoch 59/100\n",
            "782/782 [==============================] - 22s 28ms/step - loss: 0.5616 - accuracy: 0.8032 - val_loss: 0.8214 - val_accuracy: 0.7673\n",
            "Epoch 60/100\n",
            "782/782 [==============================] - 23s 29ms/step - loss: 0.5567 - accuracy: 0.8047 - val_loss: 0.8827 - val_accuracy: 0.7487\n",
            "Epoch 61/100\n",
            "782/782 [==============================] - 22s 28ms/step - loss: 0.5534 - accuracy: 0.8060 - val_loss: 0.9376 - val_accuracy: 0.7469\n",
            "Epoch 62/100\n",
            "782/782 [==============================] - 22s 28ms/step - loss: 0.5557 - accuracy: 0.8037 - val_loss: 0.9462 - val_accuracy: 0.7487\n",
            "Epoch 63/100\n",
            "782/782 [==============================] - 22s 28ms/step - loss: 0.5500 - accuracy: 0.8085 - val_loss: 1.0558 - val_accuracy: 0.7096\n",
            "Epoch 64/100\n",
            "782/782 [==============================] - 22s 28ms/step - loss: 0.5497 - accuracy: 0.8072 - val_loss: 0.8563 - val_accuracy: 0.7540\n",
            "Epoch 65/100\n",
            "782/782 [==============================] - 22s 29ms/step - loss: 0.5434 - accuracy: 0.8091 - val_loss: 0.6466 - val_accuracy: 0.8058\n",
            "Epoch 66/100\n",
            "782/782 [==============================] - 22s 28ms/step - loss: 0.5411 - accuracy: 0.8104 - val_loss: 0.7261 - val_accuracy: 0.7910\n",
            "Epoch 67/100\n",
            "782/782 [==============================] - 22s 28ms/step - loss: 0.5421 - accuracy: 0.8090 - val_loss: 0.7618 - val_accuracy: 0.7781\n",
            "Epoch 68/100\n",
            "782/782 [==============================] - 22s 28ms/step - loss: 0.5395 - accuracy: 0.8103 - val_loss: 2.2092 - val_accuracy: 0.5673\n",
            "Epoch 69/100\n",
            "782/782 [==============================] - 22s 28ms/step - loss: 0.5354 - accuracy: 0.8119 - val_loss: 0.8447 - val_accuracy: 0.7581\n",
            "Epoch 70/100\n",
            "782/782 [==============================] - 22s 28ms/step - loss: 0.5369 - accuracy: 0.8118 - val_loss: 0.9131 - val_accuracy: 0.7442\n",
            "Epoch 71/100\n",
            "782/782 [==============================] - 22s 28ms/step - loss: 0.5353 - accuracy: 0.8108 - val_loss: 0.9173 - val_accuracy: 0.7500\n",
            "Epoch 72/100\n",
            "782/782 [==============================] - 22s 29ms/step - loss: 0.5321 - accuracy: 0.8123 - val_loss: 0.7489 - val_accuracy: 0.7713\n",
            "Epoch 73/100\n",
            "782/782 [==============================] - 22s 28ms/step - loss: 0.5293 - accuracy: 0.8144 - val_loss: 2.1891 - val_accuracy: 0.5835\n",
            "Epoch 74/100\n",
            "782/782 [==============================] - 22s 29ms/step - loss: 0.5283 - accuracy: 0.8145 - val_loss: 1.2220 - val_accuracy: 0.6953\n",
            "Epoch 75/100\n",
            "782/782 [==============================] - 22s 28ms/step - loss: 0.5255 - accuracy: 0.8159 - val_loss: 0.7091 - val_accuracy: 0.7934\n",
            "Epoch 76/100\n",
            "782/782 [==============================] - 22s 29ms/step - loss: 0.5255 - accuracy: 0.8158 - val_loss: 1.5629 - val_accuracy: 0.6710\n",
            "Epoch 77/100\n",
            "782/782 [==============================] - 22s 28ms/step - loss: 0.5271 - accuracy: 0.8158 - val_loss: 0.7929 - val_accuracy: 0.7757\n",
            "Epoch 78/100\n",
            "782/782 [==============================] - 22s 28ms/step - loss: 0.5239 - accuracy: 0.8168 - val_loss: 0.7128 - val_accuracy: 0.7900\n",
            "Epoch 79/100\n",
            "782/782 [==============================] - 22s 28ms/step - loss: 0.5223 - accuracy: 0.8168 - val_loss: 0.7052 - val_accuracy: 0.8016\n",
            "Epoch 80/100\n",
            "782/782 [==============================] - 22s 28ms/step - loss: 0.5193 - accuracy: 0.8192 - val_loss: 0.7981 - val_accuracy: 0.7707\n",
            "Epoch 81/100\n",
            "782/782 [==============================] - 22s 28ms/step - loss: 0.5167 - accuracy: 0.8179 - val_loss: 0.8422 - val_accuracy: 0.7661\n",
            "Epoch 82/100\n",
            "782/782 [==============================] - 22s 28ms/step - loss: 0.5128 - accuracy: 0.8215 - val_loss: 1.0327 - val_accuracy: 0.7400\n",
            "Epoch 83/100\n",
            "782/782 [==============================] - 22s 28ms/step - loss: 0.5173 - accuracy: 0.8182 - val_loss: 0.6783 - val_accuracy: 0.7946\n",
            "Epoch 84/100\n",
            "782/782 [==============================] - 23s 29ms/step - loss: 0.5163 - accuracy: 0.8193 - val_loss: 0.5822 - val_accuracy: 0.8283\n",
            "Epoch 85/100\n",
            "782/782 [==============================] - 22s 28ms/step - loss: 0.5119 - accuracy: 0.8201 - val_loss: 0.8436 - val_accuracy: 0.7734\n",
            "Epoch 86/100\n",
            "782/782 [==============================] - 22s 28ms/step - loss: 0.5151 - accuracy: 0.8191 - val_loss: 0.8670 - val_accuracy: 0.7594\n",
            "Epoch 87/100\n",
            "782/782 [==============================] - 22s 28ms/step - loss: 0.5142 - accuracy: 0.8189 - val_loss: 0.9411 - val_accuracy: 0.7478\n",
            "Epoch 88/100\n",
            "782/782 [==============================] - 22s 28ms/step - loss: 0.5086 - accuracy: 0.8222 - val_loss: 0.7537 - val_accuracy: 0.7855\n",
            "Epoch 89/100\n",
            "782/782 [==============================] - 22s 28ms/step - loss: 0.5083 - accuracy: 0.8220 - val_loss: 0.7862 - val_accuracy: 0.7807\n",
            "Epoch 90/100\n",
            "782/782 [==============================] - 22s 28ms/step - loss: 0.5085 - accuracy: 0.8213 - val_loss: 0.7706 - val_accuracy: 0.7829\n",
            "Epoch 91/100\n",
            "782/782 [==============================] - 22s 28ms/step - loss: 0.5093 - accuracy: 0.8200 - val_loss: 0.8376 - val_accuracy: 0.7659\n",
            "Epoch 92/100\n",
            "782/782 [==============================] - 22s 29ms/step - loss: 0.5049 - accuracy: 0.8219 - val_loss: 0.9494 - val_accuracy: 0.7423\n",
            "Epoch 93/100\n",
            "782/782 [==============================] - 22s 29ms/step - loss: 0.5011 - accuracy: 0.8234 - val_loss: 0.6705 - val_accuracy: 0.8042\n",
            "Epoch 94/100\n",
            "782/782 [==============================] - 22s 28ms/step - loss: 0.5036 - accuracy: 0.8228 - val_loss: 0.6404 - val_accuracy: 0.8118\n",
            "Epoch 95/100\n",
            "782/782 [==============================] - 22s 28ms/step - loss: 0.4977 - accuracy: 0.8253 - val_loss: 0.6996 - val_accuracy: 0.8019\n",
            "Epoch 96/100\n",
            "782/782 [==============================] - 23s 29ms/step - loss: 0.5003 - accuracy: 0.8248 - val_loss: 0.6554 - val_accuracy: 0.8095\n",
            "Epoch 97/100\n",
            "782/782 [==============================] - 22s 28ms/step - loss: 0.4973 - accuracy: 0.8252 - val_loss: 0.8144 - val_accuracy: 0.7706\n",
            "Epoch 98/100\n",
            "782/782 [==============================] - 22s 28ms/step - loss: 0.4984 - accuracy: 0.8252 - val_loss: 0.7587 - val_accuracy: 0.7970\n",
            "Epoch 99/100\n",
            "782/782 [==============================] - 22s 29ms/step - loss: 0.4962 - accuracy: 0.8254 - val_loss: 0.8414 - val_accuracy: 0.7715\n",
            "Epoch 100/100\n",
            "782/782 [==============================] - 22s 28ms/step - loss: 0.4934 - accuracy: 0.8286 - val_loss: 0.5740 - val_accuracy: 0.8319\n"
          ]
        }
      ],
      "source": [
        "# train densenet_bc_49\n",
        "densenet_bc_49.compile(loss=tf.keras.losses.categorical_crossentropy ,optimizer=tf.keras.optimizers.Adam(lr=0.001) ,metrics=['accuracy'])\n",
        "history2 = densenet_bc_49.fit(x_train, y_train, epochs=100 , batch_size=64 , validation_data=(x_test, y_test))"
      ]
    },
    {
      "cell_type": "markdown",
      "metadata": {
        "id": "T8eFP1_eUWuD"
      },
      "source": []
    },
    {
      "cell_type": "markdown",
      "metadata": {
        "id": "GSVcT9-HGQpN"
      },
      "source": [
        "### 4.2 Test your models. (5 marks)"
      ]
    },
    {
      "cell_type": "code",
      "execution_count": 12,
      "metadata": {
        "colab": {
          "base_uri": "https://localhost:8080/",
          "height": 541
        },
        "id": "3FFJQCs7GQpN",
        "outputId": "424bcd1f-ed50-46d6-fdc7-5594241a0df5"
      },
      "outputs": [
        {
          "data": {
            "image/png": "[encoded data removed]",
            "text/plain": [
              "<Figure size 432x288 with 1 Axes>"
            ]
          },
          "metadata": {
            "needs_background": "light"
          },
          "output_type": "display_data"
        },
        {
          "data": {
            "image/png": "[encoded data removed]",
            "text/plain": [
              "<Figure size 432x288 with 1 Axes>"
            ]
          },
          "metadata": {
            "needs_background": "light"
          },
          "output_type": "display_data"
        }
      ],
      "source": [
        "from matplotlib import pyplot as plt\n",
        "# test densenet_bc_41\n",
        "# 绘制训练过程中的准确率\n",
        "plt.plot(history1.history['accuracy'], label='train_acc')\n",
        "plt.plot(history1.history['val_accuracy'], label='val_acc')\n",
        "plt.legend()\n",
        "plt.xlabel('Epoch')\n",
        "plt.ylabel('Accuracy')\n",
        "plt.show()\n",
        "\n",
        "# 绘制训练过程中的loss\n",
        "plt.plot(history1.history['loss'], label='train_loss')\n",
        "plt.plot(history1.history['val_loss'], label='val_loss')\n",
        "plt.legend()\n",
        "plt.xlabel('Epoch')\n",
        "plt.ylabel('Loss')\n",
        "plt.show()"
      ]
    },
    {
      "cell_type": "code",
      "execution_count": 32,
      "metadata": {
        "colab": {
          "base_uri": "https://localhost:8080/",
          "height": 384
        },
        "id": "fyP6gkon2fIB",
        "outputId": "2af1d594-2209-45b3-cb45-8771ae9f5f42"
      },
      "outputs": [
        {
          "name": "stdout",
          "output_type": "stream",
          "text": [
            "313/313 [==============================] - 2s 6ms/step - loss: 0.7582 - accuracy: 0.7799\n",
            "test_loss: 0.7581694722175598\n",
            "test_accuracy: 0.7799000144004822\n",
            "313/313 [==============================] - 1s 4ms/step\n"
          ]
        },
        {
          "data": {
            "text/plain": [
              "Text(0, 0.5, 'Predict')"
            ]
          },
          "execution_count": 32,
          "metadata": {},
          "output_type": "execute_result"
        },
        {
          "data": {
            "image/png": "[encoded data removed]",
            "text/plain": [
              "<Figure size 432x288 with 1 Axes>"
            ]
          },
          "metadata": {
            "needs_background": "light"
          },
          "output_type": "display_data"
        }
      ],
      "source": [
        "from sklearn.metrics import confusion_matrix\n",
        "# densenet_bc_41模型评估\n",
        "loss, accuracy = densenet_bc_41.evaluate(x_test, y_test)\n",
        "print('test_loss: {}'.format(loss))\n",
        "print('test_accuracy: {}'.format(accuracy))\n",
        "predict = densenet_bc_41.predict(x_test)\n",
        "pre_list = []\n",
        "y_list = [] \n",
        "for pre in predict:\n",
        "  pre_list.append(pre.argmax())\n",
        "for y in y_test:\n",
        "  y_list.append(y.argmax())\n",
        "# 绘制混淆矩阵\n",
        "conf_matrix1 = confusion_matrix(y_list, pre_list)\n",
        "plt.imshow(conf_matrix1)\n",
        "plt.title('Confusion Matrix of DenseNet-41')\n",
        "plt.xlabel('Label')\n",
        "plt.ylabel('Predict')"
      ]
    },
    {
      "cell_type": "code",
      "execution_count": 16,
      "metadata": {
        "colab": {
          "base_uri": "https://localhost:8080/",
          "height": 541
        },
        "id": "QP0yQOMvajJB",
        "outputId": "4f797a06-83c5-4a78-c239-57c981659672"
      },
      "outputs": [
        {
          "data": {
            "image/png": "[encoded data removed]",
            "text/plain": [
              "<Figure size 432x288 with 1 Axes>"
            ]
          },
          "metadata": {
            "needs_background": "light"
          },
          "output_type": "display_data"
        },
        {
          "data": {
            "image/png": "[encoded data removed]",
            "text/plain": [
              "<Figure size 432x288 with 1 Axes>"
            ]
          },
          "metadata": {
            "needs_background": "light"
          },
          "output_type": "display_data"
        }
      ],
      "source": [
        "# test densenet_bc_49\n",
        "# 绘制训练过程中的准确率\n",
        "plt.plot(history2.history['accuracy'], label='train_acc')\n",
        "plt.plot(history2.history['val_accuracy'], label='val_acc')\n",
        "plt.legend()\n",
        "plt.xlabel('Epoch')\n",
        "plt.ylabel('Accuracy')\n",
        "plt.show()\n",
        "\n",
        "# 绘制训练过程中的loss\n",
        "plt.plot(history2.history['loss'], label='train_loss')\n",
        "plt.plot(history2.history['val_loss'], label='val_loss')\n",
        "plt.legend()\n",
        "plt.xlabel('Epoch')\n",
        "plt.ylabel('Loss')\n",
        "plt.show()"
      ]
    },
    {
      "cell_type": "code",
      "execution_count": 31,
      "metadata": {
        "colab": {
          "base_uri": "https://localhost:8080/",
          "height": 384
        },
        "id": "Jcj8yazBap0f",
        "outputId": "be231adf-926b-42a0-c513-7db699b106f2"
      },
      "outputs": [
        {
          "name": "stdout",
          "output_type": "stream",
          "text": [
            "313/313 [==============================] - 2s 6ms/step - loss: 0.5740 - accuracy: 0.8319\n",
            "test_loss: 0.5740002393722534\n",
            "test_accuracy: 0.8319000005722046\n",
            "313/313 [==============================] - 2s 5ms/step\n"
          ]
        },
        {
          "data": {
            "text/plain": [
              "Text(0, 0.5, 'Predict')"
            ]
          },
          "execution_count": 31,
          "metadata": {},
          "output_type": "execute_result"
        },
        {
          "data": {
            "image/png": "[encoded data removed]",
            "text/plain": [
              "<Figure size 432x288 with 1 Axes>"
            ]
          },
          "metadata": {
            "needs_background": "light"
          },
          "output_type": "display_data"
        }
      ],
      "source": [
        "# densenet_bc_49模型评估\n",
        "loss, accuracy = densenet_bc_49.evaluate(x_test, y_test)\n",
        "print('test_loss: {}'.format(loss))\n",
        "print('test_accuracy: {}'.format(accuracy))\n",
        "predict = densenet_bc_49.predict(x_test)\n",
        "pre_list = []\n",
        "y_list = [] \n",
        "for pre in predict:\n",
        "  pre_list.append(pre.argmax())\n",
        "for y in y_test:\n",
        "  y_list.append(y.argmax())\n",
        "# 绘制混淆矩阵\n",
        "conf_matrix2 = confusion_matrix(y_list, pre_list)\n",
        "plt.imshow(conf_matrix2)\n",
        "plt.title('Confusion Matrix of DenseNet-49')\n",
        "plt.xlabel('Label')\n",
        "plt.ylabel('Predict')"
      ]
    },
    {
      "cell_type": "markdown",
      "metadata": {
        "id": "NS8aFa0dGQpO"
      },
      "source": [
        "---\n",
        "## 5. Load the pre-trained models from Keras and evaluate them. (15 marks)\n",
        "\n",
        "Use the pre-trained DenseNet-121 model from keras and fine-tune them by adding a few fc layers at the end. You should set the parameter weights='imagenet', rather than None, to use the pretrained weights."
      ]
    },
    {
      "cell_type": "code",
      "execution_count": 34,
      "metadata": {
        "colab": {
          "base_uri": "https://localhost:8080/"
        },
        "id": "r3NrU6_YGQpO",
        "outputId": "93da16da-30a1-48f3-a6bc-ff0ac18f42f0"
      },
      "outputs": [
        {
          "name": "stdout",
          "output_type": "stream",
          "text": [
            "Epoch 1/100\n",
            "782/782 [==============================] - 61s 62ms/step - loss: 0.9637 - accuracy: 0.6782 - val_loss: 1.0018 - val_accuracy: 0.6761\n",
            "Epoch 2/100\n",
            "782/782 [==============================] - 45s 58ms/step - loss: 0.8461 - accuracy: 0.7233 - val_loss: 0.8567 - val_accuracy: 0.7075\n",
            "Epoch 3/100\n",
            "782/782 [==============================] - 45s 58ms/step - loss: 0.6823 - accuracy: 0.7710 - val_loss: 1.3179 - val_accuracy: 0.5549\n",
            "Epoch 4/100\n",
            "782/782 [==============================] - 45s 58ms/step - loss: 0.5498 - accuracy: 0.8133 - val_loss: 0.7252 - val_accuracy: 0.7724\n",
            "Epoch 5/100\n",
            "782/782 [==============================] - 47s 60ms/step - loss: 0.4195 - accuracy: 0.8557 - val_loss: 74.7621 - val_accuracy: 0.3134\n",
            "Epoch 6/100\n",
            "782/782 [==============================] - 45s 58ms/step - loss: 0.6286 - accuracy: 0.7910 - val_loss: 0.8151 - val_accuracy: 0.7733\n",
            "Epoch 7/100\n",
            "782/782 [==============================] - 46s 58ms/step - loss: 0.3852 - accuracy: 0.8661 - val_loss: 0.5847 - val_accuracy: 0.8084\n",
            "Epoch 8/100\n",
            "782/782 [==============================] - 45s 58ms/step - loss: 0.2967 - accuracy: 0.8973 - val_loss: 0.6169 - val_accuracy: 0.8030\n",
            "Epoch 9/100\n",
            "782/782 [==============================] - 45s 58ms/step - loss: 0.2711 - accuracy: 0.9057 - val_loss: 0.7484 - val_accuracy: 0.7791\n",
            "Epoch 10/100\n",
            "782/782 [==============================] - 45s 58ms/step - loss: 0.2255 - accuracy: 0.9228 - val_loss: 1.0334 - val_accuracy: 0.7388\n",
            "Epoch 11/100\n",
            "782/782 [==============================] - 48s 61ms/step - loss: 0.1981 - accuracy: 0.9334 - val_loss: 1.2745 - val_accuracy: 0.6858\n",
            "Epoch 12/100\n",
            "782/782 [==============================] - 46s 58ms/step - loss: 0.2671 - accuracy: 0.9093 - val_loss: 20.7211 - val_accuracy: 0.2606\n",
            "Epoch 13/100\n",
            "782/782 [==============================] - 45s 57ms/step - loss: 0.3091 - accuracy: 0.8958 - val_loss: 1.3612 - val_accuracy: 0.7857\n",
            "Epoch 14/100\n",
            "782/782 [==============================] - 45s 57ms/step - loss: 0.1443 - accuracy: 0.9514 - val_loss: 1.0547 - val_accuracy: 0.7558\n",
            "Epoch 15/100\n",
            "782/782 [==============================] - 45s 58ms/step - loss: 0.1311 - accuracy: 0.9551 - val_loss: 0.8322 - val_accuracy: 0.7967\n",
            "Epoch 16/100\n",
            "782/782 [==============================] - 49s 62ms/step - loss: 0.1050 - accuracy: 0.9634 - val_loss: 0.8536 - val_accuracy: 0.8012\n",
            "Epoch 17/100\n",
            "782/782 [==============================] - 45s 58ms/step - loss: 0.0994 - accuracy: 0.9644 - val_loss: 0.7909 - val_accuracy: 0.8057\n",
            "Epoch 18/100\n",
            "782/782 [==============================] - 45s 58ms/step - loss: 0.1005 - accuracy: 0.9643 - val_loss: 18.6006 - val_accuracy: 0.6812\n",
            "Epoch 19/100\n",
            "782/782 [==============================] - 46s 59ms/step - loss: 0.1042 - accuracy: 0.9640 - val_loss: 2.0949 - val_accuracy: 0.5886\n",
            "Epoch 20/100\n",
            "782/782 [==============================] - 45s 58ms/step - loss: 0.1282 - accuracy: 0.9568 - val_loss: 1.0223 - val_accuracy: 0.7863\n",
            "Epoch 21/100\n",
            "782/782 [==============================] - 48s 61ms/step - loss: 0.1951 - accuracy: 0.9390 - val_loss: 0.6376 - val_accuracy: 0.8263\n",
            "Epoch 22/100\n",
            "782/782 [==============================] - 45s 58ms/step - loss: 0.0930 - accuracy: 0.9683 - val_loss: 0.6743 - val_accuracy: 0.8254\n",
            "Epoch 23/100\n",
            "782/782 [==============================] - 45s 58ms/step - loss: 0.0551 - accuracy: 0.9820 - val_loss: 1.6023 - val_accuracy: 0.8174\n",
            "Epoch 24/100\n",
            "782/782 [==============================] - 45s 58ms/step - loss: 0.0628 - accuracy: 0.9793 - val_loss: 1.7374 - val_accuracy: 0.7267\n",
            "Epoch 25/100\n",
            "782/782 [==============================] - 45s 58ms/step - loss: 0.0715 - accuracy: 0.9745 - val_loss: 0.8669 - val_accuracy: 0.8083\n",
            "Epoch 26/100\n",
            "782/782 [==============================] - 47s 60ms/step - loss: 0.0575 - accuracy: 0.9794 - val_loss: 0.8863 - val_accuracy: 0.8088\n",
            "Epoch 27/100\n",
            "782/782 [==============================] - 45s 58ms/step - loss: 0.0633 - accuracy: 0.9790 - val_loss: 1.1336 - val_accuracy: 0.7879\n",
            "Epoch 28/100\n",
            "782/782 [==============================] - 46s 59ms/step - loss: 0.0604 - accuracy: 0.9792 - val_loss: 0.8516 - val_accuracy: 0.8174\n",
            "Epoch 29/100\n",
            "782/782 [==============================] - 45s 58ms/step - loss: 0.0537 - accuracy: 0.9814 - val_loss: 0.9920 - val_accuracy: 0.7954\n",
            "Epoch 30/100\n",
            "782/782 [==============================] - 45s 58ms/step - loss: 0.0570 - accuracy: 0.9796 - val_loss: 0.8889 - val_accuracy: 0.8156\n",
            "Epoch 31/100\n",
            "782/782 [==============================] - 48s 61ms/step - loss: 0.0716 - accuracy: 0.9795 - val_loss: 0.7577 - val_accuracy: 0.8377\n",
            "Epoch 32/100\n",
            "782/782 [==============================] - 45s 58ms/step - loss: 0.0960 - accuracy: 0.9704 - val_loss: 1.2754 - val_accuracy: 0.7566\n",
            "Epoch 33/100\n",
            "782/782 [==============================] - 48s 61ms/step - loss: 0.0546 - accuracy: 0.9830 - val_loss: 1.1330 - val_accuracy: 0.7786\n",
            "Epoch 34/100\n",
            "782/782 [==============================] - 45s 57ms/step - loss: 0.0467 - accuracy: 0.9843 - val_loss: 0.8779 - val_accuracy: 0.8223\n",
            "Epoch 35/100\n",
            "782/782 [==============================] - 45s 58ms/step - loss: 0.0307 - accuracy: 0.9894 - val_loss: 1.0423 - val_accuracy: 0.7933\n",
            "Epoch 36/100\n",
            "782/782 [==============================] - 48s 61ms/step - loss: 0.0723 - accuracy: 0.9764 - val_loss: 0.7875 - val_accuracy: 0.8329\n",
            "Epoch 37/100\n",
            "782/782 [==============================] - 45s 58ms/step - loss: 0.0301 - accuracy: 0.9898 - val_loss: 1.0022 - val_accuracy: 0.8009\n",
            "Epoch 38/100\n",
            "782/782 [==============================] - 46s 59ms/step - loss: 0.0441 - accuracy: 0.9851 - val_loss: 1.0637 - val_accuracy: 0.8024\n",
            "Epoch 39/100\n",
            "782/782 [==============================] - 46s 58ms/step - loss: 0.0459 - accuracy: 0.9833 - val_loss: 1.0329 - val_accuracy: 0.8109\n",
            "Epoch 40/100\n",
            "782/782 [==============================] - 45s 58ms/step - loss: 0.0516 - accuracy: 0.9825 - val_loss: 0.8814 - val_accuracy: 0.8206\n",
            "Epoch 41/100\n",
            "782/782 [==============================] - 45s 58ms/step - loss: 0.0459 - accuracy: 0.9839 - val_loss: 0.7679 - val_accuracy: 0.8391\n",
            "Epoch 42/100\n",
            "782/782 [==============================] - 47s 61ms/step - loss: 0.0324 - accuracy: 0.9893 - val_loss: 1.0473 - val_accuracy: 0.8087\n",
            "Epoch 43/100\n",
            "782/782 [==============================] - 44s 56ms/step - loss: 0.0694 - accuracy: 0.9774 - val_loss: 0.8589 - val_accuracy: 0.8176\n",
            "Epoch 44/100\n",
            "782/782 [==============================] - 44s 56ms/step - loss: 0.0361 - accuracy: 0.9879 - val_loss: 0.7971 - val_accuracy: 0.8359\n",
            "Epoch 45/100\n",
            "782/782 [==============================] - 44s 56ms/step - loss: 0.0168 - accuracy: 0.9944 - val_loss: 0.9779 - val_accuracy: 0.8143\n",
            "Epoch 46/100\n",
            "782/782 [==============================] - 44s 56ms/step - loss: 0.0357 - accuracy: 0.9874 - val_loss: 1.0295 - val_accuracy: 0.8138\n",
            "Epoch 47/100\n",
            "782/782 [==============================] - 44s 56ms/step - loss: 0.0382 - accuracy: 0.9871 - val_loss: 0.9275 - val_accuracy: 0.8285\n",
            "Epoch 48/100\n",
            "782/782 [==============================] - 44s 56ms/step - loss: 0.0286 - accuracy: 0.9903 - val_loss: 1.1758 - val_accuracy: 0.8025\n",
            "Epoch 49/100\n",
            "782/782 [==============================] - 45s 57ms/step - loss: 0.0359 - accuracy: 0.9879 - val_loss: 1.2226 - val_accuracy: 0.7974\n",
            "Epoch 50/100\n",
            "782/782 [==============================] - 43s 56ms/step - loss: 0.0299 - accuracy: 0.9896 - val_loss: 0.9423 - val_accuracy: 0.8267\n",
            "Epoch 51/100\n",
            "782/782 [==============================] - 44s 56ms/step - loss: 0.0288 - accuracy: 0.9899 - val_loss: 1.1909 - val_accuracy: 0.7938\n",
            "Epoch 52/100\n",
            "782/782 [==============================] - 44s 56ms/step - loss: 0.0437 - accuracy: 0.9857 - val_loss: 1.0143 - val_accuracy: 0.8186\n",
            "Epoch 53/100\n",
            "782/782 [==============================] - 44s 56ms/step - loss: 0.0263 - accuracy: 0.9914 - val_loss: 0.9360 - val_accuracy: 0.8292\n",
            "Epoch 54/100\n",
            "782/782 [==============================] - 44s 56ms/step - loss: 0.0315 - accuracy: 0.9895 - val_loss: 1.2189 - val_accuracy: 0.7929\n",
            "Epoch 55/100\n",
            "782/782 [==============================] - 46s 59ms/step - loss: 0.0330 - accuracy: 0.9895 - val_loss: 0.9034 - val_accuracy: 0.8259\n",
            "Epoch 56/100\n",
            "782/782 [==============================] - 44s 56ms/step - loss: 0.0201 - accuracy: 0.9933 - val_loss: 1.0365 - val_accuracy: 0.8163\n",
            "Epoch 57/100\n",
            "782/782 [==============================] - 45s 57ms/step - loss: 0.0302 - accuracy: 0.9896 - val_loss: 1.0343 - val_accuracy: 0.8205\n",
            "Epoch 58/100\n",
            "782/782 [==============================] - 44s 56ms/step - loss: 0.0280 - accuracy: 0.9900 - val_loss: 1.0540 - val_accuracy: 0.8189\n",
            "Epoch 59/100\n",
            "782/782 [==============================] - 44s 56ms/step - loss: 0.0247 - accuracy: 0.9909 - val_loss: 1.0151 - val_accuracy: 0.8249\n",
            "Epoch 60/100\n",
            "782/782 [==============================] - 44s 56ms/step - loss: 0.0371 - accuracy: 0.9874 - val_loss: 1.2850 - val_accuracy: 0.7761\n",
            "Epoch 61/100\n",
            "782/782 [==============================] - 45s 58ms/step - loss: 0.0224 - accuracy: 0.9925 - val_loss: 0.9376 - val_accuracy: 0.8309\n",
            "Epoch 62/100\n",
            "782/782 [==============================] - 43s 56ms/step - loss: 0.0338 - accuracy: 0.9896 - val_loss: 0.9869 - val_accuracy: 0.8211\n",
            "Epoch 63/100\n",
            "782/782 [==============================] - 44s 56ms/step - loss: 0.0182 - accuracy: 0.9939 - val_loss: 1.0684 - val_accuracy: 0.8250\n",
            "Epoch 64/100\n",
            "782/782 [==============================] - 43s 56ms/step - loss: 0.0229 - accuracy: 0.9922 - val_loss: 1.0014 - val_accuracy: 0.8315\n",
            "Epoch 65/100\n",
            "782/782 [==============================] - 43s 55ms/step - loss: 0.0265 - accuracy: 0.9909 - val_loss: 1.3387 - val_accuracy: 0.7821\n",
            "Epoch 66/100\n",
            "782/782 [==============================] - 44s 56ms/step - loss: 0.0245 - accuracy: 0.9912 - val_loss: 1.0405 - val_accuracy: 0.8311\n",
            "Epoch 67/100\n",
            "782/782 [==============================] - 44s 56ms/step - loss: 0.0254 - accuracy: 0.9913 - val_loss: 1.0188 - val_accuracy: 0.8248\n",
            "Epoch 68/100\n",
            "782/782 [==============================] - 45s 57ms/step - loss: 0.0193 - accuracy: 0.9934 - val_loss: 1.3761 - val_accuracy: 0.7920\n",
            "Epoch 69/100\n",
            "782/782 [==============================] - 44s 56ms/step - loss: 0.0245 - accuracy: 0.9914 - val_loss: 0.9819 - val_accuracy: 0.8342\n",
            "Epoch 70/100\n",
            "782/782 [==============================] - 44s 56ms/step - loss: 0.0215 - accuracy: 0.9921 - val_loss: 1.6658 - val_accuracy: 0.7369\n",
            "Epoch 71/100\n",
            "782/782 [==============================] - 43s 55ms/step - loss: 0.0230 - accuracy: 0.9922 - val_loss: 1.3158 - val_accuracy: 0.7973\n",
            "Epoch 72/100\n",
            "782/782 [==============================] - 43s 55ms/step - loss: 0.0468 - accuracy: 0.9850 - val_loss: 0.8696 - val_accuracy: 0.8362\n",
            "Epoch 73/100\n",
            "782/782 [==============================] - 44s 56ms/step - loss: 0.0233 - accuracy: 0.9926 - val_loss: 0.9828 - val_accuracy: 0.8195\n",
            "Epoch 74/100\n",
            "782/782 [==============================] - 45s 58ms/step - loss: 0.0178 - accuracy: 0.9942 - val_loss: 0.9853 - val_accuracy: 0.8213\n",
            "Epoch 75/100\n",
            "782/782 [==============================] - 44s 56ms/step - loss: 0.0298 - accuracy: 0.9911 - val_loss: 0.9692 - val_accuracy: 0.8296\n",
            "Epoch 76/100\n",
            "782/782 [==============================] - 44s 56ms/step - loss: 0.0171 - accuracy: 0.9937 - val_loss: 0.9599 - val_accuracy: 0.8321\n",
            "Epoch 77/100\n",
            "782/782 [==============================] - 44s 56ms/step - loss: 0.0159 - accuracy: 0.9950 - val_loss: 1.2310 - val_accuracy: 0.8038\n",
            "Epoch 78/100\n",
            "782/782 [==============================] - 43s 55ms/step - loss: 0.0189 - accuracy: 0.9932 - val_loss: 1.0994 - val_accuracy: 0.8238\n",
            "Epoch 79/100\n",
            "782/782 [==============================] - 43s 55ms/step - loss: 0.0234 - accuracy: 0.9918 - val_loss: 1.0176 - val_accuracy: 0.8300\n",
            "Epoch 80/100\n",
            "782/782 [==============================] - 45s 57ms/step - loss: 0.0171 - accuracy: 0.9937 - val_loss: 1.0465 - val_accuracy: 0.8304\n",
            "Epoch 81/100\n",
            "782/782 [==============================] - 43s 55ms/step - loss: 0.0230 - accuracy: 0.9925 - val_loss: 1.3685 - val_accuracy: 0.7973\n",
            "Epoch 82/100\n",
            "782/782 [==============================] - 43s 56ms/step - loss: 0.0233 - accuracy: 0.9926 - val_loss: 0.9821 - val_accuracy: 0.8302\n",
            "Epoch 83/100\n",
            "782/782 [==============================] - 44s 56ms/step - loss: 0.0133 - accuracy: 0.9956 - val_loss: 1.0235 - val_accuracy: 0.8339\n",
            "Epoch 84/100\n",
            "782/782 [==============================] - 43s 55ms/step - loss: 0.0206 - accuracy: 0.9930 - val_loss: 1.1148 - val_accuracy: 0.8254\n",
            "Epoch 85/100\n",
            "782/782 [==============================] - 44s 56ms/step - loss: 0.0172 - accuracy: 0.9941 - val_loss: 1.0569 - val_accuracy: 0.8236\n",
            "Epoch 86/100\n",
            "782/782 [==============================] - 44s 56ms/step - loss: 0.0188 - accuracy: 0.9935 - val_loss: 1.0611 - val_accuracy: 0.8233\n",
            "Epoch 87/100\n",
            "782/782 [==============================] - 44s 57ms/step - loss: 0.0175 - accuracy: 0.9939 - val_loss: 1.1534 - val_accuracy: 0.8154\n",
            "Epoch 88/100\n",
            "782/782 [==============================] - 42s 54ms/step - loss: 0.0271 - accuracy: 0.9913 - val_loss: 0.9590 - val_accuracy: 0.8462\n",
            "Epoch 89/100\n",
            "782/782 [==============================] - 43s 54ms/step - loss: 0.0075 - accuracy: 0.9976 - val_loss: 1.1097 - val_accuracy: 0.8313\n",
            "Epoch 90/100\n",
            "782/782 [==============================] - 43s 55ms/step - loss: 0.0162 - accuracy: 0.9945 - val_loss: 1.1115 - val_accuracy: 0.8294\n",
            "Epoch 91/100\n",
            "782/782 [==============================] - 43s 55ms/step - loss: 0.0216 - accuracy: 0.9928 - val_loss: 1.1443 - val_accuracy: 0.8221\n",
            "Epoch 92/100\n",
            "782/782 [==============================] - 43s 55ms/step - loss: 0.0184 - accuracy: 0.9937 - val_loss: 1.0058 - val_accuracy: 0.8370\n",
            "Epoch 93/100\n",
            "782/782 [==============================] - 44s 56ms/step - loss: 0.0123 - accuracy: 0.9959 - val_loss: 1.3719 - val_accuracy: 0.8014\n",
            "Epoch 94/100\n",
            "782/782 [==============================] - 43s 55ms/step - loss: 0.0183 - accuracy: 0.9943 - val_loss: 1.1571 - val_accuracy: 0.8102\n",
            "Epoch 95/100\n",
            "782/782 [==============================] - 43s 55ms/step - loss: 0.0145 - accuracy: 0.9953 - val_loss: 0.9703 - val_accuracy: 0.8385\n",
            "Epoch 96/100\n",
            "782/782 [==============================] - 42s 54ms/step - loss: 0.0147 - accuracy: 0.9953 - val_loss: 1.1170 - val_accuracy: 0.8191\n",
            "Epoch 97/100\n",
            "782/782 [==============================] - 43s 55ms/step - loss: 0.0177 - accuracy: 0.9943 - val_loss: 1.3003 - val_accuracy: 0.8038\n",
            "Epoch 98/100\n",
            "782/782 [==============================] - 42s 54ms/step - loss: 0.0174 - accuracy: 0.9943 - val_loss: 1.1160 - val_accuracy: 0.8244\n",
            "Epoch 99/100\n",
            "782/782 [==============================] - 43s 55ms/step - loss: 0.0150 - accuracy: 0.9948 - val_loss: 1.1003 - val_accuracy: 0.8241\n",
            "Epoch 100/100\n",
            "782/782 [==============================] - 44s 56ms/step - loss: 0.0154 - accuracy: 0.9949 - val_loss: 1.0614 - val_accuracy: 0.8338\n"
          ]
        }
      ],
      "source": [
        "from tensorflow.keras.applications.densenet import DenseNet121\n",
        "\n",
        "# densenet_121训练\n",
        "densenet121_model = tf.keras.models.Sequential()\n",
        "densenet_121 = DenseNet121(\n",
        "    weights=\"imagenet\",\n",
        "    include_top=False,\n",
        "    input_shape=[32, 32, 3],\n",
        "    pooling='avg',\n",
        "    classes=10,\n",
        ")\n",
        "densenet121_model.add(densenet_121)\n",
        "densenet121_model.add(tf.keras.layers.Dense(10, activation='softmax'))\n",
        "densenet121_model.compile(\n",
        "    optimizer=\"adam\",\n",
        "    loss='categorical_crossentropy',\n",
        "    metrics=['accuracy'])\n",
        "history3 = densenet121_model.fit(x_train, y_train, epochs=100 , batch_size=64 , validation_data=(x_test, y_test))"
      ]
    },
    {
      "cell_type": "code",
      "execution_count": 35,
      "metadata": {
        "colab": {
          "base_uri": "https://localhost:8080/",
          "height": 541
        },
        "id": "aizQfbPeeGW_",
        "outputId": "8f33490b-c8e7-4439-8dfe-761748038861"
      },
      "outputs": [
        {
          "data": {
            "image/png": "[encoded data removed]",
            "text/plain": [
              "<Figure size 432x288 with 1 Axes>"
            ]
          },
          "metadata": {
            "needs_background": "light"
          },
          "output_type": "display_data"
        },
        {
          "data": {
            "image/png": "[encoded data removed]",
            "text/plain": [
              "<Figure size 432x288 with 1 Axes>"
            ]
          },
          "metadata": {
            "needs_background": "light"
          },
          "output_type": "display_data"
        }
      ],
      "source": [
        "# densenet_121测试\n",
        "# 绘制训练过程中的准确率\n",
        "plt.plot(history3.history['accuracy'], label='train_acc')\n",
        "plt.plot(history3.history['val_accuracy'], label='val_acc')\n",
        "plt.legend()\n",
        "plt.xlabel('Epoch')\n",
        "plt.ylabel('Accuracy')\n",
        "plt.show()\n",
        "\n",
        "# 绘制训练过程中的loss\n",
        "plt.plot(history3.history['loss'], label='train_loss')\n",
        "plt.plot(history3.history['val_loss'], label='val_loss')\n",
        "plt.legend()\n",
        "plt.xlabel('Epoch')\n",
        "plt.ylabel('Loss')\n",
        "plt.show()"
      ]
    },
    {
      "cell_type": "code",
      "execution_count": 37,
      "metadata": {
        "colab": {
          "base_uri": "https://localhost:8080/",
          "height": 368
        },
        "id": "-sfIh9m0cTz6",
        "outputId": "009c6eab-f531-42a8-e1d8-509e50edf4df"
      },
      "outputs": [
        {
          "name": "stdout",
          "output_type": "stream",
          "text": [
            "313/313 [==============================] - 8s 18ms/step - loss: 1.0614 - accuracy: 0.8338\n",
            "test_loss: 1.0613607168197632\n",
            "test_accuracy: 0.8338000178337097\n",
            "313/313 [==============================] - 6s 14ms/step\n"
          ]
        },
        {
          "data": {
            "text/plain": [
              "Text(0, 0.5, 'Predict')"
            ]
          },
          "execution_count": 37,
          "metadata": {},
          "output_type": "execute_result"
        },
        {
          "data": {
            "image/png": "[encoded data removed]",
            "text/plain": [
              "<Figure size 432x288 with 1 Axes>"
            ]
          },
          "metadata": {
            "needs_background": "light"
          },
          "output_type": "display_data"
        }
      ],
      "source": [
        "# densenet_bc_41模型评估\n",
        "loss, accuracy = densenet121_model.evaluate(x_test, y_test)\n",
        "print('test_loss: {}'.format(loss))\n",
        "print('test_accuracy: {}'.format(accuracy))\n",
        "predict = densenet121_model.predict(x_test)\n",
        "pre_list = []\n",
        "y_list = [] \n",
        "for pre in predict:\n",
        "  pre_list.append(pre.argmax())\n",
        "for y in y_test:\n",
        "  y_list.append(y.argmax())\n",
        "\n",
        "# 绘制混淆矩阵\n",
        "conf_matrix3 = confusion_matrix(y_list, pre_list)\n",
        "plt.imshow(conf_matrix3)\n",
        "plt.xlabel('Label')\n",
        "plt.ylabel('Predict')"
      ]
    },
    {
      "cell_type": "markdown",
      "metadata": {
        "id": "jEGorFTaGQpO"
      },
      "source": [
        "---\n",
        "## 6. Analysis your results. (20 marks)\n",
        "Compare the performance of your models with the following analysis. Both English and Chinese answers are acceptable.\n",
        "1. Is your implementation of DenseNet-49 better than DenseNet-41? If yes, how is the improvement? If no, try to figure the reason out based on your experiments. (10 marks)\n",
        "\n",
        "Answer:从实验结果上看模型DenseNet-49要优于DenseNet-41，主要有以下几点：\n",
        "- DenseNet-49最终在测试集上分类准确率为83.19%，而DenseNet-41的模型分类准确率77.99%，相差5.2%\n",
        "- DenseNet-49最终在测试集上分类loss为0.5740，而DenseNet-41为0.7582，，DenseNet-49要小0.1842\n",
        "- 从混淆矩阵上看，DenseNet-49模型在对角线上的颜色较深，表明分类效果好\n",
        "- 训练过程的准确率和loss在验证集上均有较大的波动，虽引入了dropout，但是均存在一定的过拟合现象，而DenseNet-49过拟合更加严重一些\n",
        "\n",
        "2. Compare the results of your implementations with the pre-trained DenseNet-121 models from Keras. (10 marks)\n",
        "\n",
        "Answer:从实验结果上看预训练的DenseNet-121最终在CIFAR数据测试集上的准确率为83.38%，略高于DenseNet-49（0.19%），在训练的过程中，由于带有预训练过程，因此在训练中能够较快收敛，虽然验证集loss有波动，存在过拟合现象，但随着训练的逐步推动，逐步稳定，没有DenseNet-41和DenseNet-49波动大。\n",
        "\n"
      ]
    }
  ],
  "metadata": {
    "accelerator": "GPU",
    "colab": {
      "collapsed_sections": [],
      "provenance": [],
      "toc_visible": true
    },
    "gpuClass": "standard",
    "kernelspec": {
      "display_name": "Python 3.10.6 64-bit",
      "language": "python",
      "name": "python3"
    },
    "language_info": {
      "codemirror_mode": {
        "name": "ipython",
        "version": 3
      },
      "file_extension": ".py",
      "mimetype": "text/x-python",
      "name": "python",
      "nbconvert_exporter": "python",
      "pygments_lexer": "ipython3",
      "version": "3.10.6"
    },
    "vscode": {
      "interpreter": {
        "hash": "aee8b7b246df8f9039afb4144a1f6fd8d2ca17a180786b69acc140d282b71a49"
      }
    }
  },
  "nbformat": 4,
  "nbformat_minor": 0
}
